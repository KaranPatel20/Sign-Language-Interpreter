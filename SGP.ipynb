{
 "cells": [
  {
   "cell_type": "code",
   "execution_count": 1,
   "metadata": {},
   "outputs": [],
   "source": [
    "import tensorflow as tf\n",
    "import pandas as pd\n",
    "import numpy as np\n",
    "import pickle\n",
    "import cv2, os\n",
    "from glob import glob\n",
    "from keras.utils.np_utils import to_categorical"
   ]
  },
  {
   "cell_type": "code",
   "execution_count": 2,
   "metadata": {},
   "outputs": [
    {
     "data": {
      "text/plain": [
       "256"
      ]
     },
     "execution_count": 2,
     "metadata": {},
     "output_type": "execute_result"
    }
   ],
   "source": [
    "def get_image_size():\n",
    "\timg = cv2.imread('gestures1/1/100.jpg', 0)\n",
    "\treturn img.shape\n",
    "\n",
    "def get_num_of_classes():\n",
    "\treturn len(glob('gestures1/*'))\n",
    "\n",
    "image_x, image_y = get_image_size()\n",
    "image_x"
   ]
  },
  {
   "cell_type": "code",
   "execution_count": 28,
   "metadata": {},
   "outputs": [
    {
     "name": "stdout",
     "output_type": "stream",
     "text": [
      "[0. 0. 0. 1.]\n",
      "[0. 0. 0. 1.]\n",
      "[0. 0. 1. 0.]\n",
      "[0. 0. 0. 1.]\n",
      "(60, 256, 256, 1)\n"
     ]
    }
   ],
   "source": [
    "with open(\"train_images\", \"rb\") as f:\n",
    "    train_images = np.array(pickle.load(f))\n",
    "with open(\"train_labels\", \"rb\") as f:\n",
    "    train_labels = np.array(pickle.load(f), dtype=np.int32)\n",
    "\n",
    "with open(\"test_images\", \"rb\") as f:\n",
    "        test_images = np.array(pickle.load(f))\n",
    "with open(\"test_labels\", \"rb\") as f:\n",
    "        test_labels = np.array(pickle.load(f), dtype=np.int32)\n",
    "\n",
    "train_images = np.reshape(train_images, (train_images.shape[0], image_x, image_y, 1))\n",
    "test_images = np.reshape(test_images, (test_images.shape[0], image_x, image_y, 1))\n",
    "train_labels = tf.keras.utils.to_categorical(train_labels)\n",
    "test_labels = tf.keras.utils.to_categorical(test_labels)\n",
    "\n",
    "print(train_labels[0])\n",
    "\n",
    "print(train_labels[1])\n",
    "\n",
    "print(train_labels[2])\n",
    "\n",
    "print(train_labels[3])\n",
    "print(test_images.shape)"
   ]
  },
  {
   "cell_type": "code",
   "execution_count": 19,
   "metadata": {},
   "outputs": [],
   "source": [
    "model = tf.keras.models.Sequential([\n",
    "  \n",
    "  tf.keras.layers.Conv2D(16, (2,2), input_shape=(256, 256, 1), activation='relu'),\n",
    "  tf.keras.layers.MaxPooling2D(pool_size=(2, 2), strides=(2, 2), padding='same'),\n",
    "  tf.keras.layers.Conv2D(32, (3,3), activation='relu'),\n",
    "  tf.keras.layers.MaxPooling2D(pool_size=(3, 3), strides=(3, 3), padding='same'),\n",
    "  tf.keras.layers.Conv2D(64, (5,5), activation='relu'),\n",
    "  tf.keras.layers.MaxPooling2D(pool_size=(5, 5), strides=(5, 5), padding='same'),\n",
    "  tf.keras.layers.Flatten(),\n",
    "  tf.keras.layers.Dense(32, activation='relu'),\n",
    "  tf.keras.layers.Dense(4, activation='softmax')\n",
    "    \n",
    "\n",
    "])\n",
    "\n"
   ]
  },
  {
   "cell_type": "code",
   "execution_count": 20,
   "metadata": {},
   "outputs": [
    {
     "name": "stdout",
     "output_type": "stream",
     "text": [
      "10/10 [==============================] - 7s 736ms/step - loss: 17.8772 - accuracy: 0.6100\n",
      "2/2 [==============================] - 0s 105ms/step - loss: 8.9546e-04 - accuracy: 1.0000\n"
     ]
    }
   ],
   "source": [
    "model.compile(loss='categorical_crossentropy', metrics=['accuracy'])\n",
    "\n",
    "\n",
    "model.fit(train_images, train_labels, epochs=1)\n",
    "model.evaluate(test_images, test_labels)\n",
    "\n",
    "classifications = model.predict(test_images)"
   ]
  },
  {
   "cell_type": "code",
   "execution_count": 21,
   "metadata": {},
   "outputs": [
    {
     "name": "stdout",
     "output_type": "stream",
     "text": [
      "2/2 [==============================] - 0s 109ms/step - loss: 8.9546e-04 - accuracy: 1.0000\n",
      "1.0\n"
     ]
    }
   ],
   "source": [
    "test_loss, test_acc = model.evaluate(test_images, test_labels)\n",
    "print(test_acc)"
   ]
  },
  {
   "cell_type": "code",
   "execution_count": 22,
   "metadata": {},
   "outputs": [
    {
     "name": "stdout",
     "output_type": "stream",
     "text": [
      "[[1.11718393e-04 9.98602927e-01 1.64654950e-04 1.12075720e-03]\n",
      " [1.38710802e-05 9.99702275e-01 5.65982955e-05 2.27221826e-04]\n",
      " [1.52468949e-03 3.98833916e-04 1.17383039e-04 9.97959137e-01]\n",
      " [1.26365834e-04 9.98479426e-01 7.10499065e-04 6.83674007e-04]\n",
      " [5.90035459e-04 1.07841952e-04 3.04951918e-05 9.99271691e-01]\n",
      " [1.63093428e-04 1.24257053e-06 9.99821961e-01 1.36773851e-05]\n",
      " [1.93643558e-04 2.90934418e-06 9.99788821e-01 1.46649372e-05]\n",
      " [1.05132342e-04 9.98824894e-01 1.99797258e-04 8.70196964e-04]\n",
      " [3.59149242e-04 2.94424990e-06 9.99606431e-01 3.15063662e-05]\n",
      " [3.16963095e-04 9.98607934e-01 4.88424150e-04 5.86684968e-04]\n",
      " [5.84431327e-05 9.99043167e-01 1.46470920e-04 7.51864922e-04]\n",
      " [6.60843070e-05 9.99490023e-01 1.15961098e-04 3.27933958e-04]\n",
      " [1.20045224e-04 1.57167028e-06 9.99870539e-01 7.86903092e-06]\n",
      " [2.32874518e-05 9.99514699e-01 7.80114933e-05 3.83996841e-04]\n",
      " [1.53346767e-03 4.33967129e-04 1.74618166e-04 9.97857988e-01]\n",
      " [1.16979703e-04 9.40603059e-07 9.99868989e-01 1.31514844e-05]\n",
      " [1.66811617e-04 1.34068591e-06 9.99815166e-01 1.66598966e-05]\n",
      " [3.25904053e-04 6.33374748e-06 9.99637961e-01 2.97440110e-05]\n",
      " [1.67066336e-03 2.87431467e-04 1.48651481e-04 9.97893274e-01]\n",
      " [1.31903987e-04 2.06005052e-06 9.99850392e-01 1.56454062e-05]\n",
      " [1.26503408e-04 2.14453848e-06 9.99859214e-01 1.22063129e-05]\n",
      " [4.70796018e-04 4.96567100e-06 9.99487042e-01 3.71688366e-05]\n",
      " [6.09731418e-04 5.32269005e-05 5.25207688e-05 9.99284565e-01]\n",
      " [2.21189348e-05 9.99581039e-01 3.79995217e-05 3.58839519e-04]\n",
      " [2.94947269e-04 3.06916377e-06 9.99679327e-01 2.26408793e-05]\n",
      " [8.07652177e-05 9.98914719e-01 1.66353158e-04 8.38152831e-04]\n",
      " [1.30605570e-03 1.84775636e-04 4.38096540e-05 9.98465419e-01]\n",
      " [5.47155032e-05 9.99194086e-01 8.21704452e-05 6.69048692e-04]\n",
      " [2.10288963e-05 9.99532104e-01 6.62260718e-05 3.80701531e-04]\n",
      " [2.57899024e-04 9.98340964e-01 7.35936977e-04 6.65175728e-04]\n",
      " [2.78372336e-05 9.99531507e-01 9.97651441e-05 3.40923376e-04]\n",
      " [1.41936602e-04 1.39619908e-06 9.99847651e-01 8.97276550e-06]\n",
      " [2.61030451e-04 9.98100221e-01 7.78919202e-04 8.59885768e-04]\n",
      " [3.05392459e-05 9.99543071e-01 1.09035631e-04 3.17371276e-04]\n",
      " [1.28881237e-03 1.36657443e-04 1.45912942e-04 9.98428643e-01]\n",
      " [1.95961562e-03 4.19409858e-04 2.00341761e-04 9.97420669e-01]\n",
      " [1.76558562e-03 2.24605203e-04 2.28789766e-04 9.97780979e-01]\n",
      " [1.76786864e-03 6.53907482e-04 1.23014528e-04 9.97455180e-01]\n",
      " [2.28015808e-04 4.71192561e-06 9.99746740e-01 2.05320721e-05]\n",
      " [9.59597470e-04 5.44782706e-05 4.07301850e-05 9.98945177e-01]\n",
      " [8.40436609e-04 5.61966008e-05 5.06329961e-05 9.99052703e-01]\n",
      " [5.90749143e-04 4.25423568e-05 3.53367577e-05 9.99331355e-01]\n",
      " [1.08321306e-04 9.98418689e-01 2.30962280e-04 1.24195544e-03]\n",
      " [1.65103097e-03 6.47930719e-04 1.06592925e-04 9.97594416e-01]\n",
      " [1.17803589e-04 9.99265730e-01 1.99406961e-04 4.16997093e-04]\n",
      " [6.56885561e-04 1.30914283e-04 2.84074558e-05 9.99183834e-01]\n",
      " [1.39083349e-04 2.14766237e-06 9.99847174e-01 1.15138937e-05]\n",
      " [6.54245960e-05 9.99153256e-01 1.58373514e-04 6.22929016e-04]\n",
      " [1.04247294e-04 9.98708963e-01 1.68749481e-04 1.01801287e-03]\n",
      " [6.72666065e-04 8.05155723e-05 3.02667977e-05 9.99216557e-01]\n",
      " [8.39344939e-05 9.99459684e-01 1.22176963e-04 3.34284938e-04]\n",
      " [1.47498155e-03 2.48421158e-04 1.18014832e-04 9.98158634e-01]\n",
      " [1.80704345e-04 2.39443466e-06 9.99800026e-01 1.69687319e-05]\n",
      " [1.23515129e-04 1.06444304e-06 9.99865174e-01 1.02913327e-05]\n",
      " [3.25676410e-05 9.99366105e-01 1.36520161e-04 4.64822166e-04]\n",
      " [1.37373354e-04 5.42764099e-07 9.99853969e-01 8.07204015e-06]\n",
      " [1.24819097e-04 7.13963630e-07 9.99864101e-01 1.03396242e-05]\n",
      " [1.90572013e-04 2.47730168e-06 9.99794781e-01 1.22051306e-05]\n",
      " [1.58713560e-03 1.48251391e-04 1.24740938e-04 9.98139858e-01]\n",
      " [3.70749185e-04 5.19639116e-06 9.99591053e-01 3.30521580e-05]]\n"
     ]
    }
   ],
   "source": [
    "print(classifications)"
   ]
  },
  {
   "cell_type": "code",
   "execution_count": null,
   "metadata": {},
   "outputs": [],
   "source": []
  }
 ],
 "metadata": {
  "kernelspec": {
   "display_name": "Python 3",
   "language": "python",
   "name": "python3"
  },
  "language_info": {
   "codemirror_mode": {
    "name": "ipython",
    "version": 3
   },
   "file_extension": ".py",
   "mimetype": "text/x-python",
   "name": "python",
   "nbconvert_exporter": "python",
   "pygments_lexer": "ipython3",
   "version": "3.8.8"
  }
 },
 "nbformat": 4,
 "nbformat_minor": 2
}
