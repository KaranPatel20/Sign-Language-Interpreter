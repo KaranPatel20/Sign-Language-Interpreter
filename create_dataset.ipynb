{
 "cells": [
  {
   "cell_type": "code",
   "execution_count": 8,
   "id": "posted-tongue",
   "metadata": {},
   "outputs": [],
   "source": [
    "import cv2\n",
    "import numpy as np\n",
    "import pickle\n",
    "import os\n",
    "import sqlite3\n",
    "import random\n"
   ]
  },
  {
   "cell_type": "code",
   "execution_count": 9,
   "id": "synthetic-marathon",
   "metadata": {},
   "outputs": [
    {
     "name": "stdout",
     "output_type": "stream",
     "text": [
      "Enter gesture no.: 2\n",
      "Enter gesture name/text: no\n",
      "g_id already exists. Want to change the record? (y/n): y\n"
     ]
    }
   ],
   "source": [
    "\n",
    "image_x, image_y = 250, 250\n",
    "\n",
    "\n",
    "def get_hand_hist():\n",
    "\twith open(\"hist1\", \"rb\") as f:\n",
    "\t\thist = pickle.load(f)\n",
    "\treturn hist\n",
    "\n",
    "\n",
    "def init_create_folder_database():\n",
    "\t# create the folder and database if not exist\n",
    "\tif not os.path.exists(\"gestures1\"):\n",
    "\t\tos.mkdir(\"gestures1\")\n",
    "\tif not os.path.exists(\"gesture1_db.db\"):\n",
    "\t\tconn = sqlite3.connect(\"gesture1_db.db\")\n",
    "\t\tcreate_table_cmd = \"CREATE TABLE gesture ( g_id INTEGER NOT NULL PRIMARY KEY AUTOINCREMENT UNIQUE, g_name TEXT NOT NULL )\"\n",
    "\t\tconn.execute(create_table_cmd)\n",
    "\t\tconn.commit()\n",
    "\n",
    "\n",
    "def create_folder(folder_name):\n",
    "\tif not os.path.exists(folder_name):\n",
    "\t\tos.mkdir(folder_name)\n",
    "\n",
    "\n",
    "def store_in_db(g_id, g_name):\n",
    "\tconn = sqlite3.connect(\"gesture1_db.db\")\n",
    "\tcmd = \"INSERT INTO gesture (g_id, g_name) VALUES (%s, \\'%s\\')\" % (\n",
    "\t    g_id, g_name)\n",
    "\ttry:\n",
    "\t\tconn.execute(cmd)\n",
    "\texcept sqlite3.IntegrityError:\n",
    "\t\tchoice = input(\"g_id already exists. Want to change the record? (y/n): \")\n",
    "\t\tif choice.lower() == 'y':\n",
    "\t\t\tcmd = \"UPDATE gesture SET g_name = \\'%s\\' WHERE g_id = %s\" % (g_name, g_id)\n",
    "\t\t\tconn.execute(cmd)\n",
    "\t\telse:\n",
    "\t\t\tprint(\"Doing nothing...\")\n",
    "\t\t\treturn\n",
    "\tconn.commit()\n",
    "\n",
    "\n",
    "def store_images(g_id):\n",
    "    capture = cv2.VideoCapture(0)\n",
    "    pic_no = 0\n",
    "    create_folder(\"gestures1/\"+str(g_id))\n",
    "    while(pic_no < 120):\n",
    "        ret, frame = capture.read()\n",
    "        grayFrame = cv2.cvtColor(frame, cv2.COLOR_BGR2GRAY)\n",
    "        pic_no+=1\n",
    "        cv2.putText(frame, \"Capturing...\", (30, 60), cv2.FONT_HERSHEY_TRIPLEX, 2, (127, 255, 255))\n",
    "        cv2.imwrite(\"gestures1/\"+str(g_id)+\"/\"+str(pic_no)+\".jpg\", grayFrame)\n",
    "    capture.release()\n",
    "    cv2.destroyAllWindows()\n",
    "\n",
    "\n",
    "init_create_folder_database()\n",
    "g_id = input(\"Enter gesture no.: \")\n",
    "g_name = input(\"Enter gesture name/text: \")\n",
    "store_in_db(g_id, g_name)\n",
    "store_images(1)\n"
   ]
  },
  {
   "cell_type": "code",
   "execution_count": null,
   "id": "brief-colors",
   "metadata": {},
   "outputs": [],
   "source": []
  }
 ],
 "metadata": {
  "kernelspec": {
   "display_name": "Python 3",
   "language": "python",
   "name": "python3"
  },
  "language_info": {
   "codemirror_mode": {
    "name": "ipython",
    "version": 3
   },
   "file_extension": ".py",
   "mimetype": "text/x-python",
   "name": "python",
   "nbconvert_exporter": "python",
   "pygments_lexer": "ipython3",
   "version": "3.8.8"
  }
 },
 "nbformat": 4,
 "nbformat_minor": 5
}
